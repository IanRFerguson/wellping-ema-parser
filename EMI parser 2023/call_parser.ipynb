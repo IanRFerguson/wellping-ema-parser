{
 "cells": [
  {
   "cell_type": "code",
   "execution_count": 1,
   "id": "65f0d6c1",
   "metadata": {},
   "outputs": [],
   "source": [
    "from scp_emi_parser import EMI_Parser\n"
   ]
  },
  {
   "cell_type": "code",
   "execution_count": 2,
   "id": "b782b41f",
   "metadata": {},
   "outputs": [],
   "source": [
    "parser = EMI_Parser(path_to_file=\"/Users/ruipei/Library/CloudStorage/GoogleDrive-ruipei@stanford.edu/Shared drives/Box SSNL Folder/SSNL Social Networks Study/2022-2023/EMA/Summer 2023 Pilot/pilotData_070923_1339.json\")\n",
    "\n"
   ]
  },
  {
   "cell_type": "code",
   "execution_count": 3,
   "id": "9070df1b",
   "metadata": {
    "scrolled": true
   },
   "outputs": [
    {
     "name": "stdout",
     "output_type": "stream",
     "text": [
      "Identifying duplicate subject responses...\n"
     ]
    },
    {
     "name": "stderr",
     "output_type": "stream",
     "text": [
      "100%|██████████████████████████████████████████| 6/6 [00:00<00:00, 42799.02it/s]"
     ]
    },
    {
     "name": "stdout",
     "output_type": "stream",
     "text": [
      "Saving response-duplicates JSON file...\n",
      "\n",
      "Parsing /Users/ruipei/Library/CloudStorage/GoogleDrive-ruipei@stanford.edu/Shared drives/Box SSNL Folder/SSNL Social Networks Study/2022-2023/EMA/Summer 2023 Pilot/pilotData_070923_1339.json\n",
      "\n",
      "Parsing participant data...\n"
     ]
    },
    {
     "name": "stderr",
     "output_type": "stream",
     "text": [
      "\n",
      "100%|█████████████████████████████████████████████| 6/6 [00:00<00:00, 39.09it/s]\n"
     ]
    },
    {
     "name": "stdout",
     "output_type": "stream",
     "text": [
      "Ignored exception: ValueError\n",
      "Ignored exception: ValueError\n",
      "Ignored exception: ValueError\n",
      "Ignored exception: ValueError\n",
      "Ignored exception: ValueError\n",
      "Ignored exception: ValueError\n",
      "Ignored exception: ValueError\n",
      "Ignored exception: ValueError\n",
      "Ignored exception: ValueError\n",
      "Ignored exception: ValueError\n",
      "Ignored exception: ValueError\n",
      "Ignored exception: ValueError\n",
      "Ignored exception: ValueError\n",
      "Ignored exception: ValueError\n",
      "Ignored exception: ValueError\n",
      "Ignored exception: ValueError\n",
      "Ignored exception: ValueError\n",
      "Ignored exception: ValueError\n",
      "Ignored exception: ValueError\n",
      "Ignored exception: ValueError\n",
      "Ignored exception: ValueError\n",
      "Ignored exception: ValueError\n",
      "Aggregating participant data...\n",
      "Saving parent errors...\n",
      "\n",
      "Parsing device information...\n"
     ]
    },
    {
     "name": "stderr",
     "output_type": "stream",
     "text": [
      "100%|████████████████████████████████████████████| 6/6 [00:00<00:00, 109.96it/s]\n"
     ]
    },
    {
     "name": "stdout",
     "output_type": "stream",
     "text": [
      "\n",
      "All responses + devices parsed\n",
      "\n"
     ]
    }
   ],
   "source": [
    "parser.run_parser()"
   ]
  },
  {
   "cell_type": "code",
   "execution_count": null,
   "id": "0a2395e1",
   "metadata": {},
   "outputs": [],
   "source": []
  }
 ],
 "metadata": {
  "kernelspec": {
   "display_name": "Python 3 (ipykernel)",
   "language": "python",
   "name": "python3"
  },
  "language_info": {
   "codemirror_mode": {
    "name": "ipython",
    "version": 3
   },
   "file_extension": ".py",
   "mimetype": "text/x-python",
   "name": "python",
   "nbconvert_exporter": "python",
   "pygments_lexer": "ipython3",
   "version": "3.8.2"
  }
 },
 "nbformat": 4,
 "nbformat_minor": 5
}
